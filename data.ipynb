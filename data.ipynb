{
 "cells": [
  {
   "cell_type": "code",
   "execution_count": 1,
   "metadata": {},
   "outputs": [
    {
     "name": "stdout",
     "output_type": "stream",
     "text": [
      "Requirement already satisfied: pandas in /Users/gimtaeyeong/opt/anaconda3/envs/hatespeech/lib/python3.9/site-packages (1.3.4)\n",
      "Requirement already satisfied: python-dateutil>=2.7.3 in /Users/gimtaeyeong/opt/anaconda3/envs/hatespeech/lib/python3.9/site-packages (from pandas) (2.8.2)\n",
      "Requirement already satisfied: pytz>=2017.3 in /Users/gimtaeyeong/opt/anaconda3/envs/hatespeech/lib/python3.9/site-packages (from pandas) (2021.3)\n",
      "Requirement already satisfied: numpy>=1.17.3 in /Users/gimtaeyeong/opt/anaconda3/envs/hatespeech/lib/python3.9/site-packages (from pandas) (1.21.2)\n",
      "Requirement already satisfied: six>=1.5 in /Users/gimtaeyeong/opt/anaconda3/envs/hatespeech/lib/python3.9/site-packages (from python-dateutil>=2.7.3->pandas) (1.16.0)\n"
     ]
    }
   ],
   "source": [
    "!pip install pandas"
   ]
  },
  {
   "cell_type": "code",
   "execution_count": 2,
   "metadata": {},
   "outputs": [],
   "source": [
    "import pandas as pd"
   ]
  },
  {
   "cell_type": "code",
   "execution_count": 4,
   "metadata": {},
   "outputs": [
    {
     "name": "stdout",
     "output_type": "stream",
     "text": [
      "3278\n",
      "       태영                                                백승빈  \\\n",
      "1730  NaN                              웃기고 있네 가세연이 정상이냐 박사모지   \n",
      "274   NaN                            웹툰작가인가? 뭔 개 좆도 아닌소리를...   \n",
      "3232  NaN                                                NaN   \n",
      "936   NaN  조센에 돈벌러 와서 조센 당하고 돌아간 외노들때문이지큰돈 벌면서 뒷다마 까는  똥남...   \n",
      "2560  NaN                                                NaN   \n",
      "\n",
      "                           오주연          A  차주형 최강민(차주형) 강경민(차주형)  \\\n",
      "1730                       NaN         병신  NaN      NaN      NaN   \n",
      "274   ㅋㅋㅋㅋ.오늘 처음으로 소리내서 웃었다.|0  가가섹스하러다가라  NaN      NaN      NaN   \n",
      "3232                       NaN        NaN  NaN      NaN      NaN   \n",
      "936                        NaN      야한사이트  NaN      NaN      NaN   \n",
      "2560                       NaN       씹꿀인데  NaN      NaN      NaN   \n",
      "\n",
      "     지나가는 1학년이니???  한재원  박세윤  현채원  김도현 박준서인척하는 한재원과 박세윤  \n",
      "1730           NaN  십시퀴  NaN  NaN  NaN              NaN  \n",
      "274          \"시방\",  ⒮⒠⒳  보짓년   썅년  NaN              NaN  \n",
      "3232           NaN  후레년  NaN  NaN  NaN              NaN  \n",
      "936            NaN  미친넌  NaN  NaN  NaN              NaN  \n",
      "2560           NaN  ㅈ1랄  NaN  NaN  NaN              NaN  \n"
     ]
    }
   ],
   "source": [
    "negative = pd.read_csv('data/negative.csv')\n",
    "\n",
    "print(len(negative))\n",
    "print(negative.sample(n=5))"
   ]
  },
  {
   "cell_type": "code",
   "execution_count": 5,
   "metadata": {},
   "outputs": [],
   "source": [
    "negative_result = []\n",
    "for i, d in negative.iterrows():\n",
    "    for k in d.keys():\n",
    "        if str((d[k])) != str('nan'):\n",
    "            negative_result.append(d[k])"
   ]
  },
  {
   "cell_type": "code",
   "execution_count": 6,
   "metadata": {},
   "outputs": [
    {
     "data": {
      "text/plain": [
       "11318"
      ]
     },
     "execution_count": 6,
     "metadata": {},
     "output_type": "execute_result"
    }
   ],
   "source": [
    "len(negative_result)"
   ]
  },
  {
   "cell_type": "code",
   "execution_count": 8,
   "metadata": {},
   "outputs": [],
   "source": [
    "negative_speech = pd.DataFrame()\n",
    "negative_speech['text'] = pd.Series(negative_result)\n",
    "negative_speech['label'] = 1\n",
    "negative_speech.to_csv('data/negative_speech.tsv', sep='\\t', index=False)"
   ]
  },
  {
   "cell_type": "code",
   "execution_count": 13,
   "metadata": {},
   "outputs": [
    {
     "name": "stdout",
     "output_type": "stream",
     "text": [
      "11318\n",
      "                                                    file  \\\n",
      "10017  KsponSpeech_01/KsponSpeech_0011/KsponSpeech_01...   \n",
      "9746   KsponSpeech_01/KsponSpeech_0010/KsponSpeech_00...   \n",
      "10948  KsponSpeech_01/KsponSpeech_0011/KsponSpeech_01...   \n",
      "4277   KsponSpeech_01/KsponSpeech_0005/KsponSpeech_00...   \n",
      "207    KsponSpeech_01/KsponSpeech_0001/KsponSpeech_00...   \n",
      "\n",
      "                                                   label  \n",
      "10017                                           아 맞아 맞아.  \n",
      "9746                             말도 안 돼. 일 년도 안 된 거 같은데?  \n",
      "10948                                     아니야. 내가 다 때렸어.  \n",
      "4277   얘가 고양이도 편한 자세가 있고 불편한 자세가 있대 근데 고양이를 안을 때도 아기처...  \n",
      "207                 너무 스트레스받아. 여행 가기 전에 여행 이미 갔다 온 거 같애.  \n"
     ]
    }
   ],
   "source": [
    "positive = pd.read_csv('data/positive.tsv', sep='\\t')\n",
    "positive = positive[:11318]\n",
    "\n",
    "print(len(positive))\n",
    "print(positive.sample(n=5))"
   ]
  },
  {
   "cell_type": "code",
   "execution_count": 14,
   "metadata": {},
   "outputs": [],
   "source": [
    "positive = positive.drop('file', axis=1)"
   ]
  },
  {
   "cell_type": "code",
   "execution_count": 15,
   "metadata": {},
   "outputs": [
    {
     "data": {
      "text/html": [
       "<div>\n",
       "<style scoped>\n",
       "    .dataframe tbody tr th:only-of-type {\n",
       "        vertical-align: middle;\n",
       "    }\n",
       "\n",
       "    .dataframe tbody tr th {\n",
       "        vertical-align: top;\n",
       "    }\n",
       "\n",
       "    .dataframe thead th {\n",
       "        text-align: right;\n",
       "    }\n",
       "</style>\n",
       "<table border=\"1\" class=\"dataframe\">\n",
       "  <thead>\n",
       "    <tr style=\"text-align: right;\">\n",
       "      <th></th>\n",
       "      <th>label</th>\n",
       "    </tr>\n",
       "  </thead>\n",
       "  <tbody>\n",
       "    <tr>\n",
       "      <th>10995</th>\n",
       "      <td>야 집에서 가위 갖다가 그냥 슥 자르고 바느질로 그냥 슥 한 번 박고.</td>\n",
       "    </tr>\n",
       "    <tr>\n",
       "      <th>7051</th>\n",
       "      <td>그래서 이제 보여줬지. 그래서 나도 그렇게 뽑혔는데 지원하는 게 은근히 거기서 지원...</td>\n",
       "    </tr>\n",
       "    <tr>\n",
       "      <th>1891</th>\n",
       "      <td>근데 생각보다 충분해.</td>\n",
       "    </tr>\n",
       "    <tr>\n",
       "      <th>6967</th>\n",
       "      <td>그러겠지?</td>\n",
       "    </tr>\n",
       "    <tr>\n",
       "      <th>1353</th>\n",
       "      <td>경상도 어딨거든? 밀양이? 근데 어딘진 내가 몰라. 아 그래? 어. 경상도. 겨 경상</td>\n",
       "    </tr>\n",
       "  </tbody>\n",
       "</table>\n",
       "</div>"
      ],
      "text/plain": [
       "                                                   label\n",
       "10995            야 집에서 가위 갖다가 그냥 슥 자르고 바느질로 그냥 슥 한 번 박고.\n",
       "7051   그래서 이제 보여줬지. 그래서 나도 그렇게 뽑혔는데 지원하는 게 은근히 거기서 지원...\n",
       "1891                                        근데 생각보다 충분해.\n",
       "6967                                               그러겠지?\n",
       "1353     경상도 어딨거든? 밀양이? 근데 어딘진 내가 몰라. 아 그래? 어. 경상도. 겨 경상"
      ]
     },
     "execution_count": 15,
     "metadata": {},
     "output_type": "execute_result"
    }
   ],
   "source": [
    "positive.sample(n=5)"
   ]
  },
  {
   "cell_type": "code",
   "execution_count": 16,
   "metadata": {},
   "outputs": [],
   "source": [
    "positive_result = []\n",
    "for d, i in positive.iterrows():\n",
    "    positive_result.append(positive.iloc[d]['label'])"
   ]
  },
  {
   "cell_type": "code",
   "execution_count": 17,
   "metadata": {},
   "outputs": [],
   "source": [
    "positive_speech = pd.DataFrame()\n",
    "positive_speech['text'] = pd.Series(positive_result)\n",
    "positive_speech['label'] = 0\n",
    "positive_speech.to_csv('data/positive_speech.tsv', sep='\\t', index=False)"
   ]
  },
  {
   "cell_type": "code",
   "execution_count": 18,
   "metadata": {},
   "outputs": [
    {
     "name": "stdout",
     "output_type": "stream",
     "text": [
      "11318\n",
      "11318\n"
     ]
    }
   ],
   "source": [
    "print(len(negative_speech))\n",
    "print(len(positive_speech))"
   ]
  },
  {
   "cell_type": "code",
   "execution_count": 19,
   "metadata": {},
   "outputs": [],
   "source": [
    "speech = pd.concat([positive_speech, negative_speech])"
   ]
  },
  {
   "cell_type": "code",
   "execution_count": 20,
   "metadata": {},
   "outputs": [
    {
     "data": {
      "text/plain": [
       "{0, 1}"
      ]
     },
     "execution_count": 20,
     "metadata": {},
     "output_type": "execute_result"
    }
   ],
   "source": [
    "set(speech['label'])"
   ]
  },
  {
   "cell_type": "code",
   "execution_count": 21,
   "metadata": {},
   "outputs": [
    {
     "data": {
      "text/plain": [
       "22636"
      ]
     },
     "execution_count": 21,
     "metadata": {},
     "output_type": "execute_result"
    }
   ],
   "source": [
    "len(speech)"
   ]
  },
  {
   "cell_type": "code",
   "execution_count": 22,
   "metadata": {},
   "outputs": [],
   "source": [
    "speech.to_csv('data/speech.csv', index=False)"
   ]
  }
 ],
 "metadata": {
  "interpreter": {
   "hash": "aee8b7b246df8f9039afb4144a1f6fd8d2ca17a180786b69acc140d282b71a49"
  },
  "kernelspec": {
   "display_name": "Python 3.9.7 64-bit",
   "language": "python",
   "name": "python3"
  },
  "language_info": {
   "codemirror_mode": {
    "name": "ipython",
    "version": 3
   },
   "file_extension": ".py",
   "mimetype": "text/x-python",
   "name": "python",
   "nbconvert_exporter": "python",
   "pygments_lexer": "ipython3",
   "version": "3.9.7"
  },
  "orig_nbformat": 4
 },
 "nbformat": 4,
 "nbformat_minor": 2
}
